{
  "nbformat": 4,
  "nbformat_minor": 0,
  "metadata": {
    "colab": {
      "name": "bitcoin.ipynb",
      "provenance": [],
      "authorship_tag": "ABX9TyNwzl13lggdK4NWaXhR5tr3",
      "include_colab_link": true
    },
    "kernelspec": {
      "name": "python3",
      "display_name": "Python 3"
    },
    "language_info": {
      "name": "python"
    }
  },
  "cells": [
    {
      "cell_type": "markdown",
      "metadata": {
        "id": "view-in-github",
        "colab_type": "text"
      },
      "source": [
        "<a href=\"https://colab.research.google.com/github/park-hyunchun/DAP/blob/main/bitcoin.ipynb\" target=\"_parent\"><img src=\"https://colab.research.google.com/assets/colab-badge.svg\" alt=\"Open In Colab\"/></a>"
      ]
    },
    {
      "cell_type": "code",
      "metadata": {
        "id": "BGWAARPXp0zX"
      },
      "source": [
        "import requests\n",
        "import pandas as pd\n"
      ],
      "execution_count": 1,
      "outputs": []
    },
    {
      "cell_type": "markdown",
      "metadata": {
        "id": "C0GNiVTGrj6s"
      },
      "source": [
        "# Get pyupbit\n",
        "Python Wrapper for Ubbit API"
      ]
    },
    {
      "cell_type": "code",
      "metadata": {
        "colab": {
          "base_uri": "https://localhost:8080/"
        },
        "id": "mGs6nR13qPaD",
        "outputId": "976d2f0c-4ecd-452c-87f7-4f17fb57a4d2"
      },
      "source": [
        "pip install pyupbit"
      ],
      "execution_count": 3,
      "outputs": [
        {
          "output_type": "stream",
          "name": "stdout",
          "text": [
            "Requirement already satisfied: pyupbit in /usr/local/lib/python3.7/dist-packages (0.2.21)\n",
            "Requirement already satisfied: pyjwt>=2.0.0 in /usr/local/lib/python3.7/dist-packages (from pyupbit) (2.3.0)\n",
            "Requirement already satisfied: websockets==9.1 in /usr/local/lib/python3.7/dist-packages (from pyupbit) (9.1)\n",
            "Requirement already satisfied: pandas in /usr/local/lib/python3.7/dist-packages (from pyupbit) (1.1.5)\n",
            "Requirement already satisfied: requests in /usr/local/lib/python3.7/dist-packages (from pyupbit) (2.23.0)\n",
            "Requirement already satisfied: pytz>=2017.2 in /usr/local/lib/python3.7/dist-packages (from pandas->pyupbit) (2018.9)\n",
            "Requirement already satisfied: numpy>=1.15.4 in /usr/local/lib/python3.7/dist-packages (from pandas->pyupbit) (1.19.5)\n",
            "Requirement already satisfied: python-dateutil>=2.7.3 in /usr/local/lib/python3.7/dist-packages (from pandas->pyupbit) (2.8.2)\n",
            "Requirement already satisfied: six>=1.5 in /usr/local/lib/python3.7/dist-packages (from python-dateutil>=2.7.3->pandas->pyupbit) (1.15.0)\n",
            "Requirement already satisfied: chardet<4,>=3.0.2 in /usr/local/lib/python3.7/dist-packages (from requests->pyupbit) (3.0.4)\n",
            "Requirement already satisfied: idna<3,>=2.5 in /usr/local/lib/python3.7/dist-packages (from requests->pyupbit) (2.10)\n",
            "Requirement already satisfied: certifi>=2017.4.17 in /usr/local/lib/python3.7/dist-packages (from requests->pyupbit) (2021.10.8)\n",
            "Requirement already satisfied: urllib3!=1.25.0,!=1.25.1,<1.26,>=1.21.1 in /usr/local/lib/python3.7/dist-packages (from requests->pyupbit) (1.24.3)\n"
          ]
        }
      ]
    },
    {
      "cell_type": "markdown",
      "metadata": {
        "id": "JvKvRlj3sHH8"
      },
      "source": [
        "# Bitcoin dataframe\n",
        "using pyupbit, recieve on month KRW-Bitcoin data."
      ]
    },
    {
      "cell_type": "code",
      "metadata": {
        "colab": {
          "base_uri": "https://localhost:8080/",
          "height": 1000
        },
        "id": "hOliUwniqU9H",
        "outputId": "e2e5d8bf-5ac5-43a1-bed1-c8cf6689d42c"
      },
      "source": [
        "import pyupbit\n",
        "pyupbit.get_tickers(fiat=\"KRW\")\n",
        "ticker = 'KRW-BTC'\n",
        "interval = 'month'\n",
        "to = '2021-11-30 11:30'\n",
        "count = 30\n",
        "pyupbit.get_ohlcv(ticker=ticker, interval=interval, to=to, count=count)"
      ],
      "execution_count": 19,
      "outputs": [
        {
          "output_type": "execute_result",
          "data": {
            "text/html": [
              "<div>\n",
              "<style scoped>\n",
              "    .dataframe tbody tr th:only-of-type {\n",
              "        vertical-align: middle;\n",
              "    }\n",
              "\n",
              "    .dataframe tbody tr th {\n",
              "        vertical-align: top;\n",
              "    }\n",
              "\n",
              "    .dataframe thead th {\n",
              "        text-align: right;\n",
              "    }\n",
              "</style>\n",
              "<table border=\"1\" class=\"dataframe\">\n",
              "  <thead>\n",
              "    <tr style=\"text-align: right;\">\n",
              "      <th></th>\n",
              "      <th>open</th>\n",
              "      <th>high</th>\n",
              "      <th>low</th>\n",
              "      <th>close</th>\n",
              "      <th>volume</th>\n",
              "      <th>value</th>\n",
              "    </tr>\n",
              "  </thead>\n",
              "  <tbody>\n",
              "    <tr>\n",
              "      <th>2019-06-01 09:00:00</th>\n",
              "      <td>10383000.0</td>\n",
              "      <td>16840000.0</td>\n",
              "      <td>9172000.0</td>\n",
              "      <td>13598000.0</td>\n",
              "      <td>395517.385698</td>\n",
              "      <td>4.981182e+12</td>\n",
              "    </tr>\n",
              "    <tr>\n",
              "      <th>2019-07-01 09:00:00</th>\n",
              "      <td>13599000.0</td>\n",
              "      <td>15537000.0</td>\n",
              "      <td>10880000.0</td>\n",
              "      <td>11957000.0</td>\n",
              "      <td>487170.940628</td>\n",
              "      <td>6.321462e+12</td>\n",
              "    </tr>\n",
              "    <tr>\n",
              "      <th>2019-08-01 09:00:00</th>\n",
              "      <td>11956000.0</td>\n",
              "      <td>14570000.0</td>\n",
              "      <td>11380000.0</td>\n",
              "      <td>11612000.0</td>\n",
              "      <td>283765.531371</td>\n",
              "      <td>3.661279e+12</td>\n",
              "    </tr>\n",
              "    <tr>\n",
              "      <th>2019-09-01 09:00:00</th>\n",
              "      <td>11612000.0</td>\n",
              "      <td>13014000.0</td>\n",
              "      <td>9268000.0</td>\n",
              "      <td>9945000.0</td>\n",
              "      <td>152291.291616</td>\n",
              "      <td>1.748379e+12</td>\n",
              "    </tr>\n",
              "    <tr>\n",
              "      <th>2019-10-01 09:00:00</th>\n",
              "      <td>9945000.0</td>\n",
              "      <td>11899000.0</td>\n",
              "      <td>8630000.0</td>\n",
              "      <td>10692000.0</td>\n",
              "      <td>158003.545596</td>\n",
              "      <td>1.604730e+12</td>\n",
              "    </tr>\n",
              "    <tr>\n",
              "      <th>2019-11-01 09:00:00</th>\n",
              "      <td>10698000.0</td>\n",
              "      <td>10996000.0</td>\n",
              "      <td>7683000.0</td>\n",
              "      <td>8838000.0</td>\n",
              "      <td>121988.838638</td>\n",
              "      <td>1.142572e+12</td>\n",
              "    </tr>\n",
              "    <tr>\n",
              "      <th>2019-12-01 09:00:00</th>\n",
              "      <td>8838000.0</td>\n",
              "      <td>8996000.0</td>\n",
              "      <td>7546000.0</td>\n",
              "      <td>8312000.0</td>\n",
              "      <td>88753.439498</td>\n",
              "      <td>7.496310e+11</td>\n",
              "    </tr>\n",
              "    <tr>\n",
              "      <th>2020-01-01 09:00:00</th>\n",
              "      <td>8308000.0</td>\n",
              "      <td>10882000.0</td>\n",
              "      <td>7910000.0</td>\n",
              "      <td>10781000.0</td>\n",
              "      <td>151081.461251</td>\n",
              "      <td>1.448010e+12</td>\n",
              "    </tr>\n",
              "    <tr>\n",
              "      <th>2020-02-01 09:00:00</th>\n",
              "      <td>10781000.0</td>\n",
              "      <td>12044000.0</td>\n",
              "      <td>10306000.0</td>\n",
              "      <td>10374000.0</td>\n",
              "      <td>141681.395126</td>\n",
              "      <td>1.608632e+12</td>\n",
              "    </tr>\n",
              "    <tr>\n",
              "      <th>2020-03-01 09:00:00</th>\n",
              "      <td>10380000.0</td>\n",
              "      <td>10980000.0</td>\n",
              "      <td>5489000.0</td>\n",
              "      <td>7799000.0</td>\n",
              "      <td>345309.781889</td>\n",
              "      <td>2.661304e+12</td>\n",
              "    </tr>\n",
              "    <tr>\n",
              "      <th>2020-04-01 09:00:00</th>\n",
              "      <td>7799000.0</td>\n",
              "      <td>11435000.0</td>\n",
              "      <td>7529000.0</td>\n",
              "      <td>10477000.0</td>\n",
              "      <td>171519.600640</td>\n",
              "      <td>1.524310e+12</td>\n",
              "    </tr>\n",
              "    <tr>\n",
              "      <th>2020-05-01 09:00:00</th>\n",
              "      <td>10477000.0</td>\n",
              "      <td>12163000.0</td>\n",
              "      <td>10121000.0</td>\n",
              "      <td>11432000.0</td>\n",
              "      <td>188722.045927</td>\n",
              "      <td>2.109939e+12</td>\n",
              "    </tr>\n",
              "    <tr>\n",
              "      <th>2020-06-01 09:00:00</th>\n",
              "      <td>11432000.0</td>\n",
              "      <td>12230000.0</td>\n",
              "      <td>10756000.0</td>\n",
              "      <td>10903000.0</td>\n",
              "      <td>82842.868263</td>\n",
              "      <td>9.473545e+11</td>\n",
              "    </tr>\n",
              "    <tr>\n",
              "      <th>2020-07-01 09:00:00</th>\n",
              "      <td>10903000.0</td>\n",
              "      <td>13580000.0</td>\n",
              "      <td>10700000.0</td>\n",
              "      <td>13416000.0</td>\n",
              "      <td>86752.460835</td>\n",
              "      <td>1.020144e+12</td>\n",
              "    </tr>\n",
              "    <tr>\n",
              "      <th>2020-08-01 09:00:00</th>\n",
              "      <td>13404000.0</td>\n",
              "      <td>14382000.0</td>\n",
              "      <td>12871000.0</td>\n",
              "      <td>13739000.0</td>\n",
              "      <td>147985.324754</td>\n",
              "      <td>2.030225e+12</td>\n",
              "    </tr>\n",
              "    <tr>\n",
              "      <th>2020-09-01 09:00:00</th>\n",
              "      <td>13733000.0</td>\n",
              "      <td>14097000.0</td>\n",
              "      <td>11860000.0</td>\n",
              "      <td>12558000.0</td>\n",
              "      <td>95987.451362</td>\n",
              "      <td>1.213187e+12</td>\n",
              "    </tr>\n",
              "    <tr>\n",
              "      <th>2020-10-01 09:00:00</th>\n",
              "      <td>12562000.0</td>\n",
              "      <td>15800000.0</td>\n",
              "      <td>12205000.0</td>\n",
              "      <td>15606000.0</td>\n",
              "      <td>81936.150069</td>\n",
              "      <td>1.136674e+12</td>\n",
              "    </tr>\n",
              "    <tr>\n",
              "      <th>2020-11-01 09:00:00</th>\n",
              "      <td>15606000.0</td>\n",
              "      <td>21459000.0</td>\n",
              "      <td>15011000.0</td>\n",
              "      <td>21315000.0</td>\n",
              "      <td>183580.502346</td>\n",
              "      <td>3.459984e+12</td>\n",
              "    </tr>\n",
              "    <tr>\n",
              "      <th>2020-12-01 09:00:00</th>\n",
              "      <td>21313000.0</td>\n",
              "      <td>32386000.0</td>\n",
              "      <td>19216000.0</td>\n",
              "      <td>32042000.0</td>\n",
              "      <td>225919.115769</td>\n",
              "      <td>5.714537e+12</td>\n",
              "    </tr>\n",
              "    <tr>\n",
              "      <th>2021-01-01 09:00:00</th>\n",
              "      <td>32037000.0</td>\n",
              "      <td>48550000.0</td>\n",
              "      <td>31662000.0</td>\n",
              "      <td>36408000.0</td>\n",
              "      <td>502401.950832</td>\n",
              "      <td>1.948663e+13</td>\n",
              "    </tr>\n",
              "    <tr>\n",
              "      <th>2021-02-01 09:00:00</th>\n",
              "      <td>36408000.0</td>\n",
              "      <td>65985000.0</td>\n",
              "      <td>35907000.0</td>\n",
              "      <td>51798000.0</td>\n",
              "      <td>382508.391547</td>\n",
              "      <td>1.974645e+13</td>\n",
              "    </tr>\n",
              "    <tr>\n",
              "      <th>2021-03-01 09:00:00</th>\n",
              "      <td>51798000.0</td>\n",
              "      <td>72000000.0</td>\n",
              "      <td>51560000.0</td>\n",
              "      <td>71513000.0</td>\n",
              "      <td>298657.889466</td>\n",
              "      <td>1.909307e+13</td>\n",
              "    </tr>\n",
              "    <tr>\n",
              "      <th>2021-04-01 09:00:00</th>\n",
              "      <td>71480000.0</td>\n",
              "      <td>81994000.0</td>\n",
              "      <td>54964000.0</td>\n",
              "      <td>67939000.0</td>\n",
              "      <td>330778.825698</td>\n",
              "      <td>2.345273e+13</td>\n",
              "    </tr>\n",
              "    <tr>\n",
              "      <th>2021-05-01 09:00:00</th>\n",
              "      <td>67956000.0</td>\n",
              "      <td>73129000.0</td>\n",
              "      <td>39331000.0</td>\n",
              "      <td>43761000.0</td>\n",
              "      <td>492361.915412</td>\n",
              "      <td>2.767991e+13</td>\n",
              "    </tr>\n",
              "    <tr>\n",
              "      <th>2021-06-01 09:00:00</th>\n",
              "      <td>43761000.0</td>\n",
              "      <td>47500000.0</td>\n",
              "      <td>33900000.0</td>\n",
              "      <td>40674000.0</td>\n",
              "      <td>393035.544376</td>\n",
              "      <td>1.621658e+13</td>\n",
              "    </tr>\n",
              "    <tr>\n",
              "      <th>2021-07-01 09:00:00</th>\n",
              "      <td>40663000.0</td>\n",
              "      <td>48768000.0</td>\n",
              "      <td>34820000.0</td>\n",
              "      <td>47979000.0</td>\n",
              "      <td>203043.114515</td>\n",
              "      <td>8.271119e+12</td>\n",
              "    </tr>\n",
              "    <tr>\n",
              "      <th>2021-08-01 09:00:00</th>\n",
              "      <td>47979000.0</td>\n",
              "      <td>58726000.0</td>\n",
              "      <td>43841000.0</td>\n",
              "      <td>55230000.0</td>\n",
              "      <td>317811.297216</td>\n",
              "      <td>1.698745e+13</td>\n",
              "    </tr>\n",
              "    <tr>\n",
              "      <th>2021-09-01 09:00:00</th>\n",
              "      <td>55228000.0</td>\n",
              "      <td>61113000.0</td>\n",
              "      <td>49924000.0</td>\n",
              "      <td>53523000.0</td>\n",
              "      <td>235755.194471</td>\n",
              "      <td>1.307499e+13</td>\n",
              "    </tr>\n",
              "    <tr>\n",
              "      <th>2021-10-01 09:00:00</th>\n",
              "      <td>53523000.0</td>\n",
              "      <td>81750000.0</td>\n",
              "      <td>53070000.0</td>\n",
              "      <td>72391000.0</td>\n",
              "      <td>270105.281408</td>\n",
              "      <td>1.918305e+13</td>\n",
              "    </tr>\n",
              "    <tr>\n",
              "      <th>2021-11-01 09:00:00</th>\n",
              "      <td>72325000.0</td>\n",
              "      <td>82700000.0</td>\n",
              "      <td>68089000.0</td>\n",
              "      <td>72300000.0</td>\n",
              "      <td>225508.771511</td>\n",
              "      <td>1.679152e+13</td>\n",
              "    </tr>\n",
              "  </tbody>\n",
              "</table>\n",
              "</div>"
            ],
            "text/plain": [
              "                           open        high  ...         volume         value\n",
              "2019-06-01 09:00:00  10383000.0  16840000.0  ...  395517.385698  4.981182e+12\n",
              "2019-07-01 09:00:00  13599000.0  15537000.0  ...  487170.940628  6.321462e+12\n",
              "2019-08-01 09:00:00  11956000.0  14570000.0  ...  283765.531371  3.661279e+12\n",
              "2019-09-01 09:00:00  11612000.0  13014000.0  ...  152291.291616  1.748379e+12\n",
              "2019-10-01 09:00:00   9945000.0  11899000.0  ...  158003.545596  1.604730e+12\n",
              "2019-11-01 09:00:00  10698000.0  10996000.0  ...  121988.838638  1.142572e+12\n",
              "2019-12-01 09:00:00   8838000.0   8996000.0  ...   88753.439498  7.496310e+11\n",
              "2020-01-01 09:00:00   8308000.0  10882000.0  ...  151081.461251  1.448010e+12\n",
              "2020-02-01 09:00:00  10781000.0  12044000.0  ...  141681.395126  1.608632e+12\n",
              "2020-03-01 09:00:00  10380000.0  10980000.0  ...  345309.781889  2.661304e+12\n",
              "2020-04-01 09:00:00   7799000.0  11435000.0  ...  171519.600640  1.524310e+12\n",
              "2020-05-01 09:00:00  10477000.0  12163000.0  ...  188722.045927  2.109939e+12\n",
              "2020-06-01 09:00:00  11432000.0  12230000.0  ...   82842.868263  9.473545e+11\n",
              "2020-07-01 09:00:00  10903000.0  13580000.0  ...   86752.460835  1.020144e+12\n",
              "2020-08-01 09:00:00  13404000.0  14382000.0  ...  147985.324754  2.030225e+12\n",
              "2020-09-01 09:00:00  13733000.0  14097000.0  ...   95987.451362  1.213187e+12\n",
              "2020-10-01 09:00:00  12562000.0  15800000.0  ...   81936.150069  1.136674e+12\n",
              "2020-11-01 09:00:00  15606000.0  21459000.0  ...  183580.502346  3.459984e+12\n",
              "2020-12-01 09:00:00  21313000.0  32386000.0  ...  225919.115769  5.714537e+12\n",
              "2021-01-01 09:00:00  32037000.0  48550000.0  ...  502401.950832  1.948663e+13\n",
              "2021-02-01 09:00:00  36408000.0  65985000.0  ...  382508.391547  1.974645e+13\n",
              "2021-03-01 09:00:00  51798000.0  72000000.0  ...  298657.889466  1.909307e+13\n",
              "2021-04-01 09:00:00  71480000.0  81994000.0  ...  330778.825698  2.345273e+13\n",
              "2021-05-01 09:00:00  67956000.0  73129000.0  ...  492361.915412  2.767991e+13\n",
              "2021-06-01 09:00:00  43761000.0  47500000.0  ...  393035.544376  1.621658e+13\n",
              "2021-07-01 09:00:00  40663000.0  48768000.0  ...  203043.114515  8.271119e+12\n",
              "2021-08-01 09:00:00  47979000.0  58726000.0  ...  317811.297216  1.698745e+13\n",
              "2021-09-01 09:00:00  55228000.0  61113000.0  ...  235755.194471  1.307499e+13\n",
              "2021-10-01 09:00:00  53523000.0  81750000.0  ...  270105.281408  1.918305e+13\n",
              "2021-11-01 09:00:00  72325000.0  82700000.0  ...  225508.771511  1.679152e+13\n",
              "\n",
              "[30 rows x 6 columns]"
            ]
          },
          "metadata": {},
          "execution_count": 19
        }
      ]
    },
    {
      "cell_type": "code",
      "metadata": {
        "colab": {
          "base_uri": "https://localhost:8080/"
        },
        "id": "l8KlD1PmtTBA",
        "outputId": "76e1a24b-291b-499b-ca98-50d096834b86"
      },
      "source": [
        "pip install -U finance-datareader"
      ],
      "execution_count": 7,
      "outputs": [
        {
          "output_type": "stream",
          "name": "stdout",
          "text": [
            "Collecting finance-datareader\n",
            "  Downloading finance_datareader-0.9.31-py3-none-any.whl (17 kB)\n",
            "Requirement already satisfied: pandas>=0.19.2 in /usr/local/lib/python3.7/dist-packages (from finance-datareader) (1.1.5)\n",
            "Requirement already satisfied: lxml in /usr/local/lib/python3.7/dist-packages (from finance-datareader) (4.2.6)\n",
            "Collecting requests-file\n",
            "  Downloading requests_file-1.5.1-py2.py3-none-any.whl (3.7 kB)\n",
            "Requirement already satisfied: tqdm in /usr/local/lib/python3.7/dist-packages (from finance-datareader) (4.62.3)\n",
            "Requirement already satisfied: requests>=2.3.0 in /usr/local/lib/python3.7/dist-packages (from finance-datareader) (2.23.0)\n",
            "Requirement already satisfied: numpy>=1.15.4 in /usr/local/lib/python3.7/dist-packages (from pandas>=0.19.2->finance-datareader) (1.19.5)\n",
            "Requirement already satisfied: python-dateutil>=2.7.3 in /usr/local/lib/python3.7/dist-packages (from pandas>=0.19.2->finance-datareader) (2.8.2)\n",
            "Requirement already satisfied: pytz>=2017.2 in /usr/local/lib/python3.7/dist-packages (from pandas>=0.19.2->finance-datareader) (2018.9)\n",
            "Requirement already satisfied: six>=1.5 in /usr/local/lib/python3.7/dist-packages (from python-dateutil>=2.7.3->pandas>=0.19.2->finance-datareader) (1.15.0)\n",
            "Requirement already satisfied: urllib3!=1.25.0,!=1.25.1,<1.26,>=1.21.1 in /usr/local/lib/python3.7/dist-packages (from requests>=2.3.0->finance-datareader) (1.24.3)\n",
            "Requirement already satisfied: certifi>=2017.4.17 in /usr/local/lib/python3.7/dist-packages (from requests>=2.3.0->finance-datareader) (2021.10.8)\n",
            "Requirement already satisfied: idna<3,>=2.5 in /usr/local/lib/python3.7/dist-packages (from requests>=2.3.0->finance-datareader) (2.10)\n",
            "Requirement already satisfied: chardet<4,>=3.0.2 in /usr/local/lib/python3.7/dist-packages (from requests>=2.3.0->finance-datareader) (3.0.4)\n",
            "Installing collected packages: requests-file, finance-datareader\n",
            "Successfully installed finance-datareader-0.9.31 requests-file-1.5.1\n"
          ]
        }
      ]
    },
    {
      "cell_type": "code",
      "metadata": {
        "colab": {
          "base_uri": "https://localhost:8080/",
          "height": 238
        },
        "id": "8a7VWwHrxAoO",
        "outputId": "501eecca-9935-41a9-d9cc-2f39c2d37c59"
      },
      "source": [
        "import FinanceDataReader as fdr\n",
        "\n",
        "df_BTCUSD = fdr.DataReader('BTC/USD', '2019')\n",
        "df_BTCUSD.head()"
      ],
      "execution_count": 51,
      "outputs": [
        {
          "output_type": "execute_result",
          "data": {
            "text/html": [
              "<div>\n",
              "<style scoped>\n",
              "    .dataframe tbody tr th:only-of-type {\n",
              "        vertical-align: middle;\n",
              "    }\n",
              "\n",
              "    .dataframe tbody tr th {\n",
              "        vertical-align: top;\n",
              "    }\n",
              "\n",
              "    .dataframe thead th {\n",
              "        text-align: right;\n",
              "    }\n",
              "</style>\n",
              "<table border=\"1\" class=\"dataframe\">\n",
              "  <thead>\n",
              "    <tr style=\"text-align: right;\">\n",
              "      <th></th>\n",
              "      <th>Close</th>\n",
              "      <th>Open</th>\n",
              "      <th>High</th>\n",
              "      <th>Low</th>\n",
              "      <th>Volume</th>\n",
              "      <th>Change</th>\n",
              "    </tr>\n",
              "    <tr>\n",
              "      <th>Date</th>\n",
              "      <th></th>\n",
              "      <th></th>\n",
              "      <th></th>\n",
              "      <th></th>\n",
              "      <th></th>\n",
              "      <th></th>\n",
              "    </tr>\n",
              "  </thead>\n",
              "  <tbody>\n",
              "    <tr>\n",
              "      <th>2019-01-01</th>\n",
              "      <td>3809.4</td>\n",
              "      <td>3709.5</td>\n",
              "      <td>3814.3</td>\n",
              "      <td>3664.4</td>\n",
              "      <td>469110.0</td>\n",
              "      <td>0.0269</td>\n",
              "    </tr>\n",
              "    <tr>\n",
              "      <th>2019-01-02</th>\n",
              "      <td>3873.8</td>\n",
              "      <td>3809.7</td>\n",
              "      <td>3894.8</td>\n",
              "      <td>3768.1</td>\n",
              "      <td>554470.0</td>\n",
              "      <td>0.0169</td>\n",
              "    </tr>\n",
              "    <tr>\n",
              "      <th>2019-01-03</th>\n",
              "      <td>3780.1</td>\n",
              "      <td>3874.1</td>\n",
              "      <td>3875.8</td>\n",
              "      <td>3753.0</td>\n",
              "      <td>450320.0</td>\n",
              "      <td>-0.0242</td>\n",
              "    </tr>\n",
              "    <tr>\n",
              "      <th>2019-01-04</th>\n",
              "      <td>3802.7</td>\n",
              "      <td>3780.5</td>\n",
              "      <td>3823.9</td>\n",
              "      <td>3720.0</td>\n",
              "      <td>488700.0</td>\n",
              "      <td>0.0060</td>\n",
              "    </tr>\n",
              "    <tr>\n",
              "      <th>2019-01-05</th>\n",
              "      <td>3785.4</td>\n",
              "      <td>3802.8</td>\n",
              "      <td>3846.7</td>\n",
              "      <td>3769.0</td>\n",
              "      <td>468450.0</td>\n",
              "      <td>-0.0046</td>\n",
              "    </tr>\n",
              "  </tbody>\n",
              "</table>\n",
              "</div>"
            ],
            "text/plain": [
              "             Close    Open    High     Low    Volume  Change\n",
              "Date                                                        \n",
              "2019-01-01  3809.4  3709.5  3814.3  3664.4  469110.0  0.0269\n",
              "2019-01-02  3873.8  3809.7  3894.8  3768.1  554470.0  0.0169\n",
              "2019-01-03  3780.1  3874.1  3875.8  3753.0  450320.0 -0.0242\n",
              "2019-01-04  3802.7  3780.5  3823.9  3720.0  488700.0  0.0060\n",
              "2019-01-05  3785.4  3802.8  3846.7  3769.0  468450.0 -0.0046"
            ]
          },
          "metadata": {},
          "execution_count": 51
        }
      ]
    },
    {
      "cell_type": "code",
      "metadata": {
        "colab": {
          "base_uri": "https://localhost:8080/",
          "height": 238
        },
        "id": "Otft6rbeyGnQ",
        "outputId": "91173c29-96cc-4dc7-996e-b4695162eafb"
      },
      "source": [
        "df_BTCKRW = fdr.DataReader('BTC/KRW', '2019')\n",
        "df_BTCKRW.head()"
      ],
      "execution_count": 27,
      "outputs": [
        {
          "output_type": "execute_result",
          "data": {
            "text/html": [
              "<div>\n",
              "<style scoped>\n",
              "    .dataframe tbody tr th:only-of-type {\n",
              "        vertical-align: middle;\n",
              "    }\n",
              "\n",
              "    .dataframe tbody tr th {\n",
              "        vertical-align: top;\n",
              "    }\n",
              "\n",
              "    .dataframe thead th {\n",
              "        text-align: right;\n",
              "    }\n",
              "</style>\n",
              "<table border=\"1\" class=\"dataframe\">\n",
              "  <thead>\n",
              "    <tr style=\"text-align: right;\">\n",
              "      <th></th>\n",
              "      <th>Close</th>\n",
              "      <th>Open</th>\n",
              "      <th>High</th>\n",
              "      <th>Low</th>\n",
              "      <th>Volume</th>\n",
              "      <th>Change</th>\n",
              "    </tr>\n",
              "    <tr>\n",
              "      <th>Date</th>\n",
              "      <th></th>\n",
              "      <th></th>\n",
              "      <th></th>\n",
              "      <th></th>\n",
              "      <th></th>\n",
              "      <th></th>\n",
              "    </tr>\n",
              "  </thead>\n",
              "  <tbody>\n",
              "    <tr>\n",
              "      <th>2019-01-01</th>\n",
              "      <td>4289000</td>\n",
              "      <td>4199000</td>\n",
              "      <td>4300000</td>\n",
              "      <td>4137000</td>\n",
              "      <td>3230.0</td>\n",
              "      <td>0.0214</td>\n",
              "    </tr>\n",
              "    <tr>\n",
              "      <th>2019-01-02</th>\n",
              "      <td>4345000</td>\n",
              "      <td>4294000</td>\n",
              "      <td>4360000</td>\n",
              "      <td>4244000</td>\n",
              "      <td>3860.0</td>\n",
              "      <td>0.0131</td>\n",
              "    </tr>\n",
              "    <tr>\n",
              "      <th>2019-01-03</th>\n",
              "      <td>4282000</td>\n",
              "      <td>4352000</td>\n",
              "      <td>4367000</td>\n",
              "      <td>4259000</td>\n",
              "      <td>15370.0</td>\n",
              "      <td>-0.0145</td>\n",
              "    </tr>\n",
              "    <tr>\n",
              "      <th>2019-01-04</th>\n",
              "      <td>4309000</td>\n",
              "      <td>4286000</td>\n",
              "      <td>4334000</td>\n",
              "      <td>4243000</td>\n",
              "      <td>19200.0</td>\n",
              "      <td>0.0063</td>\n",
              "    </tr>\n",
              "    <tr>\n",
              "      <th>2019-01-05</th>\n",
              "      <td>4297000</td>\n",
              "      <td>4309000</td>\n",
              "      <td>4354000</td>\n",
              "      <td>4278000</td>\n",
              "      <td>24870.0</td>\n",
              "      <td>-0.0028</td>\n",
              "    </tr>\n",
              "  </tbody>\n",
              "</table>\n",
              "</div>"
            ],
            "text/plain": [
              "              Close     Open     High      Low   Volume  Change\n",
              "Date                                                           \n",
              "2019-01-01  4289000  4199000  4300000  4137000   3230.0  0.0214\n",
              "2019-01-02  4345000  4294000  4360000  4244000   3860.0  0.0131\n",
              "2019-01-03  4282000  4352000  4367000  4259000  15370.0 -0.0145\n",
              "2019-01-04  4309000  4286000  4334000  4243000  19200.0  0.0063\n",
              "2019-01-05  4297000  4309000  4354000  4278000  24870.0 -0.0028"
            ]
          },
          "metadata": {},
          "execution_count": 27
        }
      ]
    },
    {
      "cell_type": "code",
      "metadata": {
        "colab": {
          "base_uri": "https://localhost:8080/",
          "height": 311
        },
        "id": "NxgUSiTwz3ww",
        "outputId": "855cb709-d558-40d2-9638-72802e379a38"
      },
      "source": [
        "df_BTCUSD['Close'].plot()"
      ],
      "execution_count": 32,
      "outputs": [
        {
          "output_type": "execute_result",
          "data": {
            "text/plain": [
              "<matplotlib.axes._subplots.AxesSubplot at 0x7ff1f4287dd0>"
            ]
          },
          "metadata": {},
          "execution_count": 32
        },
        {
          "output_type": "display_data",
          "data": {
            "image/png": "[encoded data removed]",
            "text/plain": [
              "<Figure size 432x288 with 1 Axes>"
            ]
          },
          "metadata": {
            "needs_background": "light"
          }
        }
      ]
    },
    {
      "cell_type": "code",
      "metadata": {
        "colab": {
          "base_uri": "https://localhost:8080/",
          "height": 306
        },
        "id": "CINnpkAv0H6G",
        "outputId": "0bf37725-effe-4aca-c5bd-6782ef4e8bc8"
      },
      "source": [
        "df_BTCKRW['Close'].plot()"
      ],
      "execution_count": 34,
      "outputs": [
        {
          "output_type": "execute_result",
          "data": {
            "text/plain": [
              "<matplotlib.axes._subplots.AxesSubplot at 0x7ff1f46ed9d0>"
            ]
          },
          "metadata": {},
          "execution_count": 34
        },
        {
          "output_type": "display_data",
          "data": {
            "image/png": "[encoded data removed]",
            "text/plain": [
              "<Figure size 432x288 with 1 Axes>"
            ]
          },
          "metadata": {
            "needs_background": "light"
          }
        }
      ]
    },
    {
      "cell_type": "code",
      "metadata": {
        "colab": {
          "base_uri": "https://localhost:8080/",
          "height": 206
        },
        "id": "evHfBoY70MY5",
        "outputId": "dbee57de-e982-46a7-e999-9f55f2f65735"
      },
      "source": [
        "USD_KRX = fdr.DataReader('USD/KRW', '2019')\n",
        "idx = pd.date_range('01-01-2019', '11-24-2021')\n",
        "USD_KRX.index = pd.DatetimeIndex(USD_KRX.index)\n",
        "USD_KRX = USD_KRX.reindex(idx)\n",
        "USD_KRX = USD_KRX.fillna(method='ffill')\n",
        "USD_KRX.head()"
      ],
      "execution_count": 75,
      "outputs": [
        {
          "output_type": "execute_result",
          "data": {
            "text/html": [
              "<div>\n",
              "<style scoped>\n",
              "    .dataframe tbody tr th:only-of-type {\n",
              "        vertical-align: middle;\n",
              "    }\n",
              "\n",
              "    .dataframe tbody tr th {\n",
              "        vertical-align: top;\n",
              "    }\n",
              "\n",
              "    .dataframe thead th {\n",
              "        text-align: right;\n",
              "    }\n",
              "</style>\n",
              "<table border=\"1\" class=\"dataframe\">\n",
              "  <thead>\n",
              "    <tr style=\"text-align: right;\">\n",
              "      <th></th>\n",
              "      <th>Close</th>\n",
              "      <th>Open</th>\n",
              "      <th>High</th>\n",
              "      <th>Low</th>\n",
              "      <th>Change</th>\n",
              "    </tr>\n",
              "  </thead>\n",
              "  <tbody>\n",
              "    <tr>\n",
              "      <th>2019-01-01</th>\n",
              "      <td>1112.83</td>\n",
              "      <td>1114.30</td>\n",
              "      <td>1114.95</td>\n",
              "      <td>1112.69</td>\n",
              "      <td>-0.0013</td>\n",
              "    </tr>\n",
              "    <tr>\n",
              "      <th>2019-01-02</th>\n",
              "      <td>1120.12</td>\n",
              "      <td>1113.70</td>\n",
              "      <td>1122.91</td>\n",
              "      <td>1113.70</td>\n",
              "      <td>0.0066</td>\n",
              "    </tr>\n",
              "    <tr>\n",
              "      <th>2019-01-03</th>\n",
              "      <td>1125.89</td>\n",
              "      <td>1120.12</td>\n",
              "      <td>1131.05</td>\n",
              "      <td>1119.20</td>\n",
              "      <td>0.0052</td>\n",
              "    </tr>\n",
              "    <tr>\n",
              "      <th>2019-01-04</th>\n",
              "      <td>1116.85</td>\n",
              "      <td>1125.89</td>\n",
              "      <td>1128.92</td>\n",
              "      <td>1115.70</td>\n",
              "      <td>-0.0080</td>\n",
              "    </tr>\n",
              "    <tr>\n",
              "      <th>2019-01-05</th>\n",
              "      <td>1116.85</td>\n",
              "      <td>1125.89</td>\n",
              "      <td>1128.92</td>\n",
              "      <td>1115.70</td>\n",
              "      <td>-0.0080</td>\n",
              "    </tr>\n",
              "  </tbody>\n",
              "</table>\n",
              "</div>"
            ],
            "text/plain": [
              "              Close     Open     High      Low  Change\n",
              "2019-01-01  1112.83  1114.30  1114.95  1112.69 -0.0013\n",
              "2019-01-02  1120.12  1113.70  1122.91  1113.70  0.0066\n",
              "2019-01-03  1125.89  1120.12  1131.05  1119.20  0.0052\n",
              "2019-01-04  1116.85  1125.89  1128.92  1115.70 -0.0080\n",
              "2019-01-05  1116.85  1125.89  1128.92  1115.70 -0.0080"
            ]
          },
          "metadata": {},
          "execution_count": 75
        }
      ]
    },
    {
      "cell_type": "code",
      "metadata": {
        "colab": {
          "base_uri": "https://localhost:8080/",
          "height": 320
        },
        "id": "FzpokbT_1jyX",
        "outputId": "8ffc7c8f-cc11-4e1b-ee66-3e0d5d553eee"
      },
      "source": [
        "df_BTCUSD['Close'] = df_BTCUSD['Close'] * USD_KRX['Close']\n",
        "df_BTCUSD['Close'].plot()"
      ],
      "execution_count": 73,
      "outputs": [
        {
          "output_type": "execute_result",
          "data": {
            "text/plain": [
              "<matplotlib.axes._subplots.AxesSubplot at 0x7ff1f37bdb10>"
            ]
          },
          "metadata": {},
          "execution_count": 73
        },
        {
          "output_type": "display_data",
          "data": {
            "image/png": "[encoded data removed]",
            "text/plain": [
              "<Figure size 432x288 with 1 Axes>"
            ]
          },
          "metadata": {
            "needs_background": "light"
          }
        }
      ]
    }
  ]
}